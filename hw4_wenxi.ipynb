{
 "cells": [
  {
   "cell_type": "markdown",
   "metadata": {},
   "source": [
    "## Biostats 280 HW04\n",
    "### Wenxi Yu\n",
    "### Q1"
   ]
  },
  {
   "cell_type": "markdown",
   "metadata": {},
   "source": [
    "Since $\\Delta_d$ is the unit simplex in d dimensions, we have \n",
    "$$\n",
    "\\begin{aligned}\n",
    "\\int_{\\Delta_d}\\pi(\\mathbf{p}) \\, d \\mathbf{p} &= 1\\\\\n",
    "\\pi(\\mathbf{p}) &=  \\frac{\\Gamma(|\\alpha|)}{\\prod_{j=1}^d \\Gamma(\\alpha_j)} \\prod_{j=1}^d p_j^{\\alpha_j-1}\\\\\n",
    "\\end{aligned}\n",
    "$$\n",
    "\n",
    "Then we consider\n",
    "$$\n",
    "\\begin{aligned}\n",
    "\\int_{\\Delta_d}  \\prod_{j=1}^d p_j^{x_j} \\pi(\\mathbf{p}) \\, d \\mathbf{p} &= \\int_{\\Delta_d}\\prod_{j=1}^d p_j^{x_j}  \\frac{\\Gamma(|\\alpha|)}{\\prod_{j=1}^d \\Gamma(\\alpha_j)} \\prod_{j=1}^d p_j^{\\alpha_j-1} d \\mathbf{p}\\\\\n",
    "&= \\frac{\\Gamma(|\\alpha|)}{\\prod_{j=1}^d \\Gamma(\\alpha_j)}\\int_{\\Delta_d}\\prod_{j=1}^d p_j^{x_j+\\alpha_j-1} d \\mathbf{p} \\\\\n",
    "&= \\frac{\\Gamma(|\\alpha|)}{\\prod_{j=1}^d \\Gamma(\\alpha_j)}\\frac{\\prod_{j=1}^d \\Gamma(\\alpha_j+x_j)}{\\Gamma(|\\alpha|+|\\mathbf{x}|)}\\int_{\\Delta_d}\\frac{\\Gamma(|\\alpha|+|\\mathbf{x}|)}{\\prod_{j=1}^d \\Gamma(\\alpha_j+x_j)}\\prod_{j=1}^d p_j^{x_j+\\alpha_j-1} d \\mathbf{p} \\\\\n",
    "&=\\frac{\\Gamma(|\\alpha|)}{\\prod_{j=1}^d \\Gamma(\\alpha_j)}\\frac{\\prod_{j=1}^d \\Gamma(\\alpha_j+x_j)}{\\Gamma(|\\alpha|+|\\mathbf{x}|)}\n",
    "\\end{aligned}\n",
    "$$\n",
    "Finally we have\n",
    "$$\n",
    "\\begin{aligned}\n",
    " f(\\mathbf{x} \\mid \\alpha) &= f(\\mathbf{p} \\mid \\alpha) \\cdot f(\\mathbf{x} \\mid \\mathbf{p})\\\\\n",
    " &= \\int_{\\Delta_d}\\pi(\\mathbf{p})d \\mathbf{p} \\cdot \\binom{|\\mathbf{x}|}{\\mathbf{x}} \\prod_{j=1}^d p_j^{x_j} \\\\\n",
    "\t&= \\int_{\\Delta_d} \\binom{|\\mathbf{x}|}{\\mathbf{x}} \\prod_{j=1}^d p_j^{x_j} \\pi(\\mathbf{p}) \\, d \\mathbf{p} \n",
    "\\\\\n",
    "&=\\binom{|\\mathbf{x}|}{\\mathbf{x}} \\frac{\\prod_{j=1}^d \\Gamma(\\alpha_j+x_j)}{\\prod_{j=1}^d \\Gamma(\\alpha_j)} \\frac{\\Gamma(|\\alpha|)}{\\Gamma(|\\alpha|+|\\mathbf{x}|)}\n",
    "\\end{aligned} \n",
    "$$"
   ]
  },
  {
   "cell_type": "markdown",
   "metadata": {},
   "source": [
    "### Q2\n",
    "Given independent data points $\\mathbf{x}_1, \\ldots, \\mathbf{x}_n$, the log-likelihood is\n",
    "$$\n",
    "\\begin{aligned}\n",
    "L(\\alpha) &= \\ln \\prod_{i=1}^n  f(\\mathbf{x}_i \\mid \\alpha)\\\\\n",
    "&=\\sum_{i=1}^n\\ln \\binom{|\\mathbf{x}_i|}{\\mathbf{x}_i} + \\sum_{i=1}^n \\sum_{j=1}^d \\ln \\Gamma(\\alpha_j + x_{ij})- \\sum_{i=1}^n \\sum_{j=1}^d \\ln \\Gamma(\\alpha_j)+\\sum_{i=1}^n \\ln \\Gamma(|\\alpha|)- \\sum_{i=1}^n \\ln \\Gamma(|\\alpha|+|\\mathbf{x}_i|)\\\\\n",
    "&= \\sum_{i=1}^n\\ln \\binom{|\\mathbf{x}_i|}{\\mathbf{x}_i} + \\sum_{i=1}^n \\sum_{j=1}^d [\\ln \\Gamma(\\alpha_j + x_{ij}) - \\ln \\Gamma(\\alpha_j)] - \\sum_{i=1}^n [\\ln \\Gamma(|\\alpha|+|\\mathbf{x}_i|) - \\ln \\Gamma(|\\alpha|)].\n",
    "\\end{aligned}\n",
    "$$\n",
    "Is the log-likelihood a concave function?"
   ]
  }
 ],
 "metadata": {
  "kernelspec": {
   "display_name": "Julia 0.5.1",
   "language": "julia",
   "name": "julia-0.5"
  },
  "language_info": {
   "file_extension": ".jl",
   "mimetype": "application/julia",
   "name": "julia",
   "version": "0.5.1"
  }
 },
 "nbformat": 4,
 "nbformat_minor": 2
}
