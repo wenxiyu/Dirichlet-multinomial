{
 "cells": [
  {
   "cell_type": "markdown",
   "metadata": {},
   "source": [
    "### Digit Classification Using Dirichlet-Multinomial Models (MM and EM methods)\n",
    "\n",
    "### Wenxi Yu"
   ]
  },
  {
   "cell_type": "markdown",
   "metadata": {},
   "source": [
    "### 1. Introduction\n",
    "\n",
    "* Goals: This homework aims to build a classifier for handwritten digits using Dirichlet-multinomial models. MM and EM methods are used for maximum likelihood estimation (MLE).\n",
    "\n",
    "* Programming language: Julia\n",
    "\n",
    "* Setup: Each digit is represented by a  32×32  bitmap in which each element indicates one pixel with a value of white or black. Each  32×32  bitmap is divided into blocks of  4×4 , and the number of white pixels are counted in each block. Therefore each handwritten digit is summarized by a vector  x=(x1,…,x64)  of length 64 where each element is a count between 0 and 16."
   ]
  },
  {
   "cell_type": "markdown",
   "metadata": {},
   "source": [
    "### 2. Julia Codes\n",
    "\n",
    "Write a function for finding MLE of Dirichlet-multinomial distribution given iid observations $\\mathbf{x}_1,\\ldots,\\mathbf{x}_n$, using MM algorithm."
   ]
  },
  {
   "cell_type": "code",
   "execution_count": 1,
   "metadata": {},
   "outputs": [
    {
     "name": "stderr",
     "output_type": "stream",
     "text": [
      "  % Total    % Received % Xferd  Average Speed   Time    Time     Time  Current\n",
      "                                 Dload  Upload   Total   Spent    Left  Speed\n",
      "100  550k  100  550k    0     0  1760k      0 --:--:-- --:--:-- --:--:-- 1804k\n",
      "  % Total    % Received % Xferd  Average Speed   Time    Time     Time  Current\n",
      "                                 Dload  Upload   Total   Spent    Left  Speed\n",
      "100  258k  100  258k    0     0   703k      0 --:--:-- --:--:-- --:--:--  708k\n"
     ]
    },
    {
     "ename": "LoadError",
     "evalue": "SystemError: opening file optdigits.tra: No such file or directory",
     "output_type": "error",
     "traceback": [
      "SystemError: opening file optdigits.tra: No such file or directory",
      "",
      " in #systemerror#51 at ./error.jl:34 [inlined]",
      " in systemerror(::String, ::Bool) at ./error.jl:34",
      " in open(::String, ::Bool, ::Bool, ::Bool, ::Bool, ::Bool) at ./iostream.jl:89",
      " in open(::Base.#readstring, ::String) at ./iostream.jl:111",
      " in #readdlm_auto#11(::Array{Any,1}, ::Function, ::String, ::Char, ::Type{T}, ::Char, ::Bool) at ./datafmt.jl:126",
      " in #readdlm#8(::Array{Any,1}, ::Function, ::String, ::Char, ::Type{T}, ::Char) at ./datafmt.jl:106",
      " in #readdlm#4(::Array{Any,1}, ::Function, ::String, ::Char, ::Type{T}) at ./datafmt.jl:46",
      " in #readcsv#15(::Array{Any,1}, ::Function, ::String, ::Type{T}) at ./datafmt.jl:626",
      " in readcsv(::String, ::Type{T}) at ./datafmt.jl:626"
     ]
    }
   ],
   "source": [
    "# download file if it's not in current folder\n",
    "if !isfile(\"optdigits.tra\")\n",
    "    download(\"http://hua-zhou.github.io/teaching/\" * \n",
    "        \"biostatm280-2017spring/hw/optdigits.tra\")\n",
    "end\n",
    "if !isfile(\"optdigits.tes\")\n",
    "    download(\"http://hua-zhou.github.io/teaching/\" * \n",
    "        \"biostatm280-2017spring/hw/optdigits.tes\")\n",
    "end\n",
    "\n",
    "traindata = readcsv(\"optdigits.tra\", Int)\n",
    "digit = traindata[:, end]\n",
    "count = traindata[:, 1:64]' # make sure each column is a data point"
   ]
  },
  {
   "cell_type": "code",
   "execution_count": 2,
   "metadata": {},
   "outputs": [
    {
     "data": {
      "text/plain": [
       "64×3823 Array{Int64,2}:\n",
       "  0   0   0   0   0   0   0   0   0  …   0   0   0   0   0   0   0   0   0\n",
       "  1   0   0   0   0   0   0   0   0      0   0   1   0   0   0   0   0   0\n",
       "  6  10   8   0   5  11   1   8  15      9   9  10   6   5   0   3   6   2\n",
       " 15  16  15   3  14  16  11  10   2     16  16  16  16  13   1  15  16  15\n",
       " 12   6  16  11   4  10  13   8  14      6  12  16  11  11  12   0   2  16\n",
       "  1   0  13  16   0   1  11   7  13  …   0   1   4   0   2   1   0   0  13\n",
       "  0   0   0   0   0   0   7   2   2      0   0   0   0   0   0   0   0   1\n",
       "  0   0   0   0   0   0   0   0   0      0   0   0   0   0   0   0   0   0\n",
       "  0   0   0   0   0   0   0   0   0      0   0   0   0   0   0   0   0   0\n",
       "  7   7   1   0   0   4   0   1   0      2   3   8   1   2   0   0   0   0\n",
       " 16  16  11   5  13  16   9  15  16  …  14  16  13  16  15   0  11  15   3\n",
       "  6   8   9  16   8  10  14  14  15     16  10  12   2   6  14  14  10   7\n",
       "  6  16  11  11   0  15   6  12  12     16  15  16  12   5  10   0   0  10\n",
       "  ⋮                   ⋮              ⋱       ⋮                   ⋮        \n",
       " 15  10   4  16   4  15  15  14  16      8   4  10   0   1  15   9   2   7\n",
       "  9  15   0   0  11   8   3   5   6      0   9  16   8   8   1  15   8   0\n",
       "  0   3   0   0  12   8   0   0   0      0  16   5   4  10   0   4  15   0\n",
       "  0   0   0   0   0   3   0   0   0  …   0   0   0   0   0   0   0   0   0\n",
       "  0   0   0   0   0   0   0   0   0      0   0   0   0   0   0   0   0   0\n",
       "  0   0   0   0   0   0   0   0   0      0   0   2   1   0   0   0   0   0\n",
       "  6  10   9   0   4  10   1   4  10     10   8  13   7   8   0   4   5   4\n",
       " 14  16  14   1  12  16  13  13  12     13  16  16  14  13   4  14  16  14\n",
       "  7  15   0  15  14  16   5   8   5  …   1  16  12  16  15   9  16  16   1\n",
       "  1   3   0   2   7  16   0   0   0      0  16   5  12  10   0   9  16   0\n",
       "  0   0   0   0   0  16   0   0   0      0   8   0   1   1   0   0   5   0\n",
       "  0   0   0   0   0   6   0   0   0      0   0   0   0   0   0   0   0   0"
      ]
     },
     "execution_count": 2,
     "metadata": {},
     "output_type": "execute_result"
    }
   ],
   "source": [
    "# read the data\n",
    "traindata = readcsv(\"/Users/Wenxi/Desktop/280/hw4/optdigits.tra\", Int)\n",
    "digit = traindata[:, end]\n",
    "count = traindata[:, 1:64]'"
   ]
  },
  {
   "cell_type": "code",
   "execution_count": 1,
   "metadata": {},
   "outputs": [
    {
     "data": {
      "text/plain": [
       "dirmult_mom"
      ]
     },
     "execution_count": 1,
     "metadata": {},
     "output_type": "execute_result"
    }
   ],
   "source": [
    "\"\"\"\n",
    "    dirmult_mom(X)\n",
    "\n",
    "Find the method of moment estimator of Dirichlet-multinomial distribution.\n",
    "Each column of `X` is one data point.\n",
    "\"\"\"\n",
    "function dirmult_mom{T <: Real}(X::Matrix{T})\n",
    "    d, n   = size(X)\n",
    "    α      = zeros(Float64, d)\n",
    "    pi1    = zeros(Float64, d)\n",
    "    pi2    = zeros(Float64, d)\n",
    "    total  = zero(T)\n",
    "    for j in 1:n\n",
    "        colsum = zero(T)\n",
    "        for i in 1:d\n",
    "            α[i]   += X[i, j] # accumulate row sum\n",
    "            colsum += X[i, j]\n",
    "        end\n",
    "        total += colsum\n",
    "        if colsum > 0\n",
    "            for i in 1:d\n",
    "                pi      = X[i, j] / colsum\n",
    "                pi1[i] += pi   # accumulate pi\n",
    "                pi2[i] += pi^2 # accumulate pi^2\n",
    "            end  \n",
    "        end\n",
    "    end\n",
    "    # estiamte ρ and p\n",
    "    ρ = zero(Float64)\n",
    "    for i in 1:d\n",
    "        if pi1[i] > 0\n",
    "            ρ += pi2[i] / pi1[i]\n",
    "        end\n",
    "        α[i] /= total\n",
    "    end\n",
    "    αsum = max((d - ρ) / (ρ - 1), 1e-6)\n",
    "    for i in 1:d\n",
    "        α[i] *= αsum\n",
    "    end\n",
    "    return α\n",
    "end"
   ]
  },
  {
   "cell_type": "code",
   "execution_count": 4,
   "metadata": {},
   "outputs": [
    {
     "data": {
      "text/plain": [
       "dirmult_logpdf"
      ]
     },
     "execution_count": 4,
     "metadata": {},
     "output_type": "execute_result"
    }
   ],
   "source": [
    "\"\"\"\n",
    "    dirmult_logpdf(x, α)\n",
    "\n",
    "Compute the log-pdf of Dirichlet-multinomial distribution with parameter `α` \n",
    "at data point `x`.\n",
    "\"\"\"\n",
    "function dirmult_logpdf(x::AbstractVector, α::Vector)\n",
    "    T = promote_type(eltype(x), eltype(α))\n",
    "    xs = sum(x)\n",
    "    αs = sum(α)\n",
    "    if xs == 0 && αs == 0\n",
    "        return zero(T)\n",
    "    elseif xs > 0 && αs == 0\n",
    "        return convert(T, -Inf)\n",
    "    else\n",
    "        l = lfact(xs) - lgamma(xs + αs) + lgamma(αs)\n",
    "    end\n",
    "    for i in eachindex(x)\n",
    "        if α[i] == 0 && x[i] > 0\n",
    "            return convert(T, -Inf)\n",
    "        elseif α[i] > 0\n",
    "            l += - lfact(x[i]) + lgamma(x[i] + α[i]) - lgamma(α[i])\n",
    "        end\n",
    "    end\n",
    "    return l\n",
    "end\n",
    "\n",
    "\"\"\"\n",
    "    dirmult_logpdf(X, α)\n",
    "    \n",
    "Compute the log-pdf of Dirichlet-multinomial distribution with parameter `α` \n",
    "at a sample `X`. Each column of `X` is one data point.\n",
    "\"\"\"\n",
    "function dirmult_logpdf(X::AbstractMatrix, α::Vector)\n",
    "    l  = zero(promote_type(eltype(X), eltype(α)))\n",
    "    for j in 1:size(X, 2)\n",
    "        l += dirmult_logpdf(view(X, :, j), α)\n",
    "    end\n",
    "    return l\n",
    "end"
   ]
  },
  {
   "cell_type": "code",
   "execution_count": 5,
   "metadata": {},
   "outputs": [
    {
     "data": {
      "text/plain": [
       "dirmult_score! (generic function with 2 methods)"
      ]
     },
     "execution_count": 5,
     "metadata": {},
     "output_type": "execute_result"
    }
   ],
   "source": [
    "\"\"\"\n",
    "    dirmult_score(X, α)\n",
    "\n",
    "Evaluate the score (gradient) of Dirichlet-multinomial log-likelihood at `α`.\n",
    "Each column of `X` is one data point.\n",
    "\"\"\"\n",
    "function dirmult_score(X::AbstractMatrix, α::Vector)\n",
    "    T = promote_type(eltype(X), eltype(α))\n",
    "    ∇ = zeros(T, length(α))\n",
    "    return dirmult_score!(∇, X, α)\n",
    "end\n",
    "\n",
    "function dirmult_score!(∇::Vector, X::AbstractMatrix, α::Vector)\n",
    "    fill!(∇, zero(eltype(∇)))\n",
    "    for j in 1:size(X, 2)\n",
    "        dirmult_score!(∇, view(X, :, j), α)\n",
    "    end\n",
    "    return ∇\n",
    "end\n",
    "\n",
    "function dirmult_score!(\n",
    "        ∇::Vector, \n",
    "        x::AbstractVector, \n",
    "        α::Vector\n",
    "    )\n",
    "    \n",
    "    T = promote_type(eltype(x), eltype(α))\n",
    "    xs = zero(eltype(x))\n",
    "    αs = zero(eltype(α))\n",
    "    for i in eachindex(x)\n",
    "        xs += x[i]\n",
    "        αs += α[i]\n",
    "        if α[i] == 0 && x[i] > 0\n",
    "            ∇[i] += Inf\n",
    "        elseif α[i] > 0\n",
    "            ∇[i] += digamma(x[i] + α[i]) - digamma(α[i])\n",
    "        end\n",
    "    end\n",
    "    if αs > 0\n",
    "        c = digamma(xs + αs) - digamma(αs)\n",
    "        for i in eachindex(x)\n",
    "            ∇[i] -= c\n",
    "        end\n",
    "    end\n",
    "    return ∇\n",
    "end"
   ]
  },
  {
   "cell_type": "code",
   "execution_count": 6,
   "metadata": {},
   "outputs": [
    {
     "data": {
      "text/plain": [
       "dirmult_obsinfo! (generic function with 2 methods)"
      ]
     },
     "execution_count": 6,
     "metadata": {},
     "output_type": "execute_result"
    }
   ],
   "source": [
    "\"\"\"\n",
    "    dirmult_obsinfo(X, α)\n",
    "\n",
    "Evaluate the observed information matrix of Dirichlet-multinomial log-likelihood\n",
    "at `α`. Each column of `X` is one data point. Return vector `d` and constant `c`.\n",
    "The observed information matrix equals `Diagonal(d) - c`.\n",
    "\"\"\"\n",
    "function dirmult_obsinfo(X::AbstractMatrix, α::Vector)\n",
    "    T = promote_type(eltype(X), eltype(α))\n",
    "    d = zeros(T, length(α))\n",
    "    return dirmult_obsinfo!(d, X, α)\n",
    "end\n",
    "\n",
    "function dirmult_obsinfo!(d::Vector, X::AbstractMatrix, α::Vector)\n",
    "    T = promote_type(eltype(X), eltype(α))\n",
    "    c = zero(T)\n",
    "    fill!(d, zero(eltype(d)))\n",
    "    for j in 1:size(X, 2)\n",
    "        c += dirmult_obsinfo!(d, view(X, :, j), α)\n",
    "    end\n",
    "    return c, d\n",
    "end\n",
    "\n",
    "function dirmult_obsinfo!(d::Vector, x::AbstractVector, α::Vector)\n",
    "    T  = promote_type(eltype(x), eltype(α))\n",
    "    xs = zero(eltype(x))\n",
    "    αs = zero(eltype(α))\n",
    "    for i in eachindex(x)\n",
    "        xs += x[i]\n",
    "        αs += α[i]\n",
    "        if α[i] == 0 && x[i] > 0\n",
    "            d[i] += T(Inf)\n",
    "        elseif α[i] > 0\n",
    "            d[i] += T(trigamma(α[i]) - trigamma(x[i] + α[i]))\n",
    "        end\n",
    "    end\n",
    "    if αs == 0 && xs > 0\n",
    "        c = T(Inf)\n",
    "    elseif αs == 0 && xs == 0\n",
    "        c = zero(T)\n",
    "    elseif αs > 0\n",
    "        c = T(trigamma(αs) - trigamma(xs + αs))\n",
    "    end\n",
    "    return c\n",
    "end"
   ]
  },
  {
   "cell_type": "code",
   "execution_count": 9,
   "metadata": {},
   "outputs": [
    {
     "name": "stderr",
     "output_type": "stream",
     "text": [
      "WARNING: Method definition dirmult_mm(AbstractArray{T<:Any, 2}) in module Main at In[7]:30 overwritten at In[9]:30.\n",
      "WARNING: Method definition #dirmult_mm(Array{Any, 1}, Main.#dirmult_mm, AbstractArray{T<:Any, 2}) in module Main overwritten.\n",
      "\u001b[1m\u001b[31mWARNING: replacing docs for 'dirmult_mm :: Tuple{AbstractArray{T,2}}' in module 'Main'.\u001b[0m\n"
     ]
    },
    {
     "data": {
      "text/plain": [
       "dirmult_mm"
      ]
     },
     "execution_count": 9,
     "metadata": {},
     "output_type": "execute_result"
    }
   ],
   "source": [
    "\"\"\"\n",
    "    dirmult_mm(X)\n",
    "\n",
    "Find the MLE of Dirichlet-multinomial distribution using MM algorithm.\n",
    "\n",
    "# Argument\n",
    "* `X`: an `d`-by-`n` matrix of counts; each column is one data point.\n",
    "\n",
    "# Optional argument  \n",
    "* `alpha0`: starting point. \n",
    "* `maxiters`: the maximum allowable Newton iterations (default 100). \n",
    "* `tolfun`: the tolerance for  relative change in objective values (default 1e-6). \n",
    "\n",
    "# Output\n",
    "# Output\n",
    "* `logl`: the log-likelihood at MLE.   \n",
    "* `niter`: the number of iterations performed.\n",
    "# `α`: the MLE.\n",
    "* `∇`: the gradient at MLE. \n",
    "* `obsinfo`: the observed information matrix at MLE. \n",
    "\"\"\"\n",
    "function dirmult_mm(\n",
    "        X::AbstractMatrix; \n",
    "        α0::Vector = dirmult_mom(X), \n",
    "        maxiters::Int = 100, \n",
    "        tolfun = 1e-6,\n",
    "        verbose::Bool = true\n",
    "    )\n",
    "    # first transpose X\n",
    "    X = X'\n",
    "    \n",
    "    # only consider rows and columns with sum >0\n",
    "    rowind = find(sum(X, 2))\n",
    "    colind = find(sum(X, 1)) \n",
    "    Xwork = @view X[rowind, colind]\n",
    "    αwork  = α0[colind]\n",
    "\n",
    "    # preparation\n",
    "    αnew = similar(αwork)\n",
    "    n, d = size(Xwork)\n",
    "    niter = zero(Int)\n",
    "    loglold = dirmult_logpdf(Xwork', αwork)\n",
    "    rowsums = sum(Xwork, 2)\n",
    "    logliter = zero(Float64)\n",
    "    colmax = maximum(Xwork, 1)\n",
    "\n",
    "    for iter in 1:maxiters\n",
    "        # first calculate the denominator\n",
    "        denom = 0\n",
    "        for k in 0:(maximum(rowsums) - 1)\n",
    "            r = sum(rowsums .> k)\n",
    "            denom = denom + r / (sum(αwork) + k)\n",
    "        end\n",
    "        \n",
    "        # then calculate the numerator\n",
    "        for j in 1:d\n",
    "            tempt = 0\n",
    "            if(colmax[j] >= 1)\n",
    "                for k in 0:(colmax[j] - 1)\n",
    "                    s = sum(Xwork[:, j] .> k)\n",
    "                    tempt = tempt + s / (αwork[j] + k)\n",
    "                end\n",
    "                αnew[j] = tempt / denom * αwork[j]\n",
    "            end\n",
    "        end\n",
    "        @show αnew\n",
    "        @show size(αnew)\n",
    "        logliter = dirmult_logpdf(Xwork', αnew)\n",
    "\n",
    "        # print iterate log-L if requested\n",
    "        if verbose\n",
    "            println(\"iteration \", iter, \", logl = \", logliter)\n",
    "        end\n",
    "        \n",
    "        copy!(αwork, αnew)\n",
    "        if abs(logliter - loglold) < tolfun * (abs(loglold) + 1)\n",
    "            niter = iter\n",
    "            break\n",
    "        end\n",
    "        loglold = logliter\n",
    "        niter = maxiters\n",
    "    end\n",
    "\n",
    "    # compute logl, gradient, Hessian from final iterate\n",
    "    αfinal = zeros(eltype(α0), length(α0))\n",
    "    αfinal[colind] = αwork\n",
    "    \n",
    "    ∇final = zeros(eltype(α0), length(α0))\n",
    "    ∇final[colind] = dirmult_score(Xwork', αwork)\n",
    "\n",
    "    obsinfo = zeros(eltype(α0), length(α0), length(α0))\n",
    "    obsinfo_dinv = similar(αwork)\n",
    "    obsinfo_c, obsinfo_d = dirmult_obsinfo!(obsinfo_dinv, Xwork', αwork)\n",
    "    obsinfo[colind, colind] = diagm(obsinfo_d) - obsinfo_c\n",
    "     \n",
    "    return logliter, niter, αfinal, ∇final, obsinfo\n",
    "end"
   ]
  },
  {
   "cell_type": "code",
   "execution_count": 10,
   "metadata": {},
   "outputs": [
    {
     "name": "stdout",
     "output_type": "stream",
     "text": [
      "αnew = [0.0983901,1.2734,2.94045,2.83522,1.16647,0.214591,0.0190132,0.000476166,0.413715,2.53188,2.95498,2.62303,1.87409,0.379492,0.0236629,0.0014291,0.557417,2.21671,1.47302,1.55838,1.74181,0.385576,0.0107661,0.000634563,0.514227,2.09923,2.11071,2.18359,1.75435,0.443831,0.00158664,0.000793203,0.40474,1.65621,2.09181,2.40776,2.12019,0.62641,0.00623083,0.268091,1.27501,1.48604,1.72447,1.98605,0.707496,0.00763019,0.00508976,0.177413,1.79041,2.41015,2.36149,2.12311,0.723356,0.0335669,0.000158641,0.0801053,1.3356,2.96557,2.78469,1.45695,0.353534,0.0347627]\n",
      "size(αnew) = (62,)\n"
     ]
    },
    {
     "data": {
      "text/plain": [
       "(-475812.5993711099,1,[0.0,0.0983901,1.2734,2.94045,2.83522,1.16647,0.214591,0.0190132,0.000476166,0.413715  …  0.723356,0.0335669,0.000158641,0.0801053,1.3356,2.96557,2.78469,1.45695,0.353534,0.0347627],[0.0,-46.4583,-205.976,-15.8135,-33.1534,-441.578,-779.161,-274.447,-141.011,-352.484  …  -643.416,-152.014,-140.864,-83.9284,-254.603,-23.9744,-86.0565,-390.857,-794.882,-235.846],\n",
       "[0.0 0.0 … 0.0 0.0; 0.0 61500.7 … -43.6346 -43.6346; … ; 0.0 -43.6346 … 11254.9 -43.6346; 0.0 -43.6346 … -43.6346 1.71423e5])"
      ]
     },
     "execution_count": 10,
     "metadata": {},
     "output_type": "execute_result"
    }
   ],
   "source": [
    "dirmult_mm(count; verbose = false, maxiters = 1)"
   ]
  },
  {
   "cell_type": "code",
   "execution_count": 2,
   "metadata": {},
   "outputs": [
    {
     "ename": "LoadError",
     "evalue": "UndefVarError: traindata not defined",
     "output_type": "error",
     "traceback": [
      "UndefVarError: traindata not defined",
      "",
      " in macro expansion; at ./In[2]:13 [inlined]",
      " in anonymous at ./<missing>:?"
     ]
    }
   ],
   "source": [
    "using DataFrames, Distributions\n",
    "\n",
    "ndigit       = zeros(Int, 10)\n",
    "logl_dirmult = zeros(10)\n",
    "iter_dirmult = zeros(Int, 10)\n",
    "time_dirmult = zeros(10)\n",
    "αhat_dirmult = zeros(64, 10)\n",
    "logl_multnom = zeros(10)\n",
    "\n",
    "\n",
    "for d in 0:9\n",
    "    # retrieve data for digit d\n",
    "    Xd = traindata[traindata[:, end] .== d, 1:64]'\n",
    "    ndigit[d + 1] = size(Xd, 2)\n",
    "    # fit Dirichlet-multinomial\n",
    "    tic()\n",
    "    logl_dirmult[d + 1], iter_dirmult[d + 1], αhat, = dirmult_mm(Xd; verbose = false)\n",
    "    αhat_dirmult[:, d + 1] = αhat\n",
    "    time_dirmult[d + 1] = toc()\n",
    "end"
   ]
  },
  {
   "cell_type": "code",
   "execution_count": 9,
   "metadata": {
    "scrolled": true
   },
   "outputs": [
    {
     "name": "stdout",
     "output_type": "stream",
     "text": [
      "10×5 DataFrames.DataFrame\n",
      "│ Row │ digit │ n   │ logl_dm  │ iters │ runtime   │\n",
      "├─────┼───────┼─────┼──────────┼───────┼───────────┤\n",
      "│ 1   │ 0     │ 376 │ -37361.9 │ 100   │ 0.794803  │\n",
      "│ 2   │ 1     │ 389 │ -42179.5 │ 47    │ 0.383425  │\n",
      "│ 3   │ 2     │ 380 │ -39985.3 │ 6     │ 0.0466663 │\n",
      "│ 4   │ 3     │ 389 │ -40519.9 │ 48    │ 0.434473  │\n",
      "│ 5   │ 4     │ 387 │ -43489.0 │ 26    │ 0.202164  │\n",
      "│ 6   │ 5     │ 376 │ -41191.6 │ 36    │ 0.282102  │\n",
      "│ 7   │ 6     │ 377 │ -37703.0 │ 16    │ 0.117468  │\n",
      "│ 8   │ 7     │ 387 │ -40304.1 │ 6     │ 0.045039  │\n",
      "│ 9   │ 8     │ 380 │ -43131.3 │ 20    │ 0.187638  │\n",
      "│ 10  │ 9     │ 382 │ -43709.9 │ 39    │ 0.333364  │"
     ]
    }
   ],
   "source": [
    "result = DataFrame(digit = 0:9, n = ndigit, \n",
    "    logl_dm = logl_dirmult, \n",
    "    iters = iter_dirmult, runtime = time_dirmult)\n",
    "print(result)"
   ]
  },
  {
   "cell_type": "code",
   "execution_count": 11,
   "metadata": {},
   "outputs": [
    {
     "data": {
      "text/plain": [
       "10×10 Array{Int64,2}:\n",
       " 174    0    0    0    4    0    0    0    0    0\n",
       "   0  133   21    0    2    0    2    0   13   11\n",
       "   0    9  151    2    0    1    1    1    8    4\n",
       "   0    2    1  155    0    4    0    7    5    9\n",
       "   0    2    0    0  173    0    1    2    2    1\n",
       "   0    0    0    0    1  166    1    0    0   14\n",
       "   0    6    0    0    2    1  170    0    2    0\n",
       "   0    0    0    0   11    0    0  164    2    2\n",
       "   0   22    1    0    1    1    1    1  134   13\n",
       "   0    5    0    4    6    2    0    3    4  156"
      ]
     },
     "execution_count": 11,
     "metadata": {},
     "output_type": "execute_result"
    }
   ],
   "source": [
    "using MLBase\n",
    "\n",
    "# read in test digits\n",
    "testdata = readcsv(\"optdigits.tes\", Int)\n",
    "Xtest    = testdata[:, 1:64]'\n",
    "ytest    = testdata[:, 65]\n",
    "\n",
    "# matrix of assignment probability\n",
    "test_digit_prob = [dirmult_logpdf(Xtest[:, j], αhat_dirmult[:, d]) \n",
    "    for d in 1:10, j in 1:size(Xtest, 2)]\n",
    "\n",
    "# factor in prior probabilities\n",
    "test_digit_prob .= test_digit_prob .+ log(ndigit / sum(ndigit))\n",
    "\n",
    "# prediction\n",
    "pred = [indmax(test_digit_prob[:, j]) for j in 1:size(Xtest, 2)]\n",
    "\n",
    "# confusion matrix\n",
    "confmat = confusmat(10, ytest + 1, pred)"
   ]
  },
  {
   "cell_type": "markdown",
   "metadata": {},
   "source": [
    "Compare the efficacy of Newton's method and MM algorithm:\n",
    "- for one iteration, both of the methods take similar amount of time;\n",
    "- however for MM algorithm, it normally takes more iterations to converge to the MLE;\n",
    "- so Newton's method is much more efficient than MM algorithm in this problem."
   ]
  }
 ],
 "metadata": {
  "kernelspec": {
   "display_name": "Julia 0.5.1",
   "language": "julia",
   "name": "julia-0.5"
  },
  "language_info": {
   "file_extension": ".jl",
   "mimetype": "application/julia",
   "name": "julia",
   "version": "0.5.1"
  }
 },
 "nbformat": 4,
 "nbformat_minor": 2
}
